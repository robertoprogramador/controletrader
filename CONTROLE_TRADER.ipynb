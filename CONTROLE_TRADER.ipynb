{
 "cells": [
  {
   "cell_type": "code",
   "execution_count": null,
   "metadata": {},
   "outputs": [],
   "source": [
    "#TRADER DE ELITE 2021\n",
    "#CONTROLANDO MEU DESEMPENHO NO TRADER E CONTAS A PAGAR"
   ]
  },
  {
   "cell_type": "code",
   "execution_count": null,
   "metadata": {},
   "outputs": [],
   "source": [
    "#!/usr/bin/python"
   ]
  },
  {
   "cell_type": "code",
   "execution_count": null,
   "metadata": {},
   "outputs": [],
   "source": [
    "#COLETANDO OS PARAMETROS PARA CONSULTA\n",
    "print('bem vindo Roberto')\n",
    "diainformado=input ('digite o dia do mes: ')\n",
    "saldoinformado=input ('digite o saldo de hoje: ')"
   ]
  },
  {
   "cell_type": "code",
   "execution_count": null,
   "metadata": {},
   "outputs": [],
   "source": [
    "dia=int(diainformado)\n",
    "saldo=float(saldoinformado)"
   ]
  },
  {
   "cell_type": "code",
   "execution_count": 5,
   "metadata": {},
   "outputs": [
    {
     "name": "stdout",
     "output_type": "stream",
     "text": [
      "Voce esta sem margem cuidado no trader agora 1x1 apenas\n"
     ]
    }
   ],
   "source": [
    "while saldo>=200:\n",
    "    print('Voce tem margem pra operar, vamos em frente!')\n",
    "    break\n",
    "else:\n",
    "    print('Voce esta sem margem cuidado no trader agora 1x1 apenas')\n",
    "    "
   ]
  },
  {
   "cell_type": "code",
   "execution_count": 6,
   "metadata": {},
   "outputs": [
    {
     "name": "stdout",
     "output_type": "stream",
     "text": [
      "estamos na margem de operação controlada, boa sorte\n"
     ]
    }
   ],
   "source": [
    "if saldo >=400 and saldo<=699 and dia>10:\n",
    "    print('vamos em frente com 2 CONTRATOS')\n",
    "elif saldo >=400 and saldo <=600:\n",
    "    print ('podemos tentar 4 CONTRATOS, você ja pagou agua e luz')\n",
    "elif saldo >=700:\n",
    "    print('voce ja pagou o SENAC ACORDO!!!')\n",
    "    print('bom pagar também a vivo e a claro')\n",
    "elif dia >20:\n",
    "    print('PROXIMOS PAGAMENTOS TERRENO_dia26 E MENTORIA_TRADE_dia01')\n",
    "else:\n",
    "    print(\"estamos na margem de operação controlada, boa sorte\")\n",
    "\n"
   ]
  },
  {
   "cell_type": "code",
   "execution_count": 7,
   "metadata": {},
   "outputs": [],
   "source": [
    "#controle de desempenho e faixas trader bruto\n",
    "#digite valor de trade todos os dias para dias nao uteis digite 0\n",
    "#pra consultar o valor de um dia lembre-se:A INDEXAÇÃO EM PYTHON COMEÇA EM 0!!!"
   ]
  },
  {
   "cell_type": "code",
   "execution_count": 8,
   "metadata": {},
   "outputs": [],
   "source": [
    "#registro diario de traders para consulta\n",
    "tradersaldo2=[106,164,0,166,0,0,6,-261,]\n",
    "#registgro so de dias uteis para avaliar desempenho\n",
    "traderuteis=[106,164,166,6]"
   ]
  },
  {
   "cell_type": "code",
   "execution_count": 9,
   "metadata": {},
   "outputs": [
    {
     "data": {
      "text/plain": [
       "181"
      ]
     },
     "execution_count": 9,
     "metadata": {},
     "output_type": "execute_result"
    }
   ],
   "source": [
    "sum(tradersaldo2)"
   ]
  },
  {
   "cell_type": "code",
   "execution_count": 10,
   "metadata": {},
   "outputs": [
    {
     "data": {
      "text/plain": [
       "164"
      ]
     },
     "execution_count": 10,
     "metadata": {},
     "output_type": "execute_result"
    }
   ],
   "source": [
    "#SALDO DO DIA 1 COMANDO: tradersaldo2[0]\n",
    "#SALDO DO DIA 2 COMANDO: tradersaldo2[1], etc\n",
    "tradersaldo2[1]"
   ]
  },
  {
   "cell_type": "code",
   "execution_count": null,
   "metadata": {},
   "outputs": [],
   "source": [
    "x=int(input(\"digite o dia que quer consultartrade\"))\n",
    "print(x)\n",
    "tradersaldo2[x-1]"
   ]
  },
  {
   "cell_type": "code",
   "execution_count": null,
   "metadata": {},
   "outputs": [],
   "source": [
    "sum(tradersaldo2)"
   ]
  },
  {
   "cell_type": "code",
   "execution_count": null,
   "metadata": {},
   "outputs": [],
   "source": [
    "if sum(tradersaldo2)>=500:\n",
    "    print(\"Bem vindo a FAIXA ROXA Trader Elite\")\n",
    "elif sum(tradersaldo2)>=2000:\n",
    "    print(\"Bem vindo a FAIXA MARROM Trader Elite\")\n",
    "else:\n",
    "    print(\"Vamos que vamos subir faixa jovem trader\")\n"
   ]
  },
  {
   "cell_type": "code",
   "execution_count": null,
   "metadata": {},
   "outputs": [],
   "source": [
    "#nao estou aqui para ser perfeito, mas para ser lucrativo!!!\n",
    "mediatrader=sum(traderuteis) / len(traderuteis)\n",
    "print('a media DIÁRIA deste mês trader é:', mediatrader)\n",
    "mensal=mediatrader*22"
   ]
  },
  {
   "cell_type": "code",
   "execution_count": null,
   "metadata": {},
   "outputs": [],
   "source": [
    "print(\"E O SALARIO MES PROJETADO É:\", mensal)\n"
   ]
  },
  {
   "cell_type": "code",
   "execution_count": null,
   "metadata": {},
   "outputs": [],
   "source": [
    "def somatrader (tradersaldo2):\n",
    "    return sum(tradersaldo2)\n",
    "print(\"a soma dos traders deste mes é:\", sum(tradersaldo2))\n"
   ]
  },
  {
   "cell_type": "code",
   "execution_count": null,
   "metadata": {},
   "outputs": [],
   "source": []
  },
  {
   "cell_type": "code",
   "execution_count": 1,
   "metadata": {},
   "outputs": [],
   "source": [
    "salario=1+3"
   ]
  },
  {
   "cell_type": "code",
   "execution_count": 2,
   "metadata": {},
   "outputs": [
    {
     "data": {
      "text/plain": [
       "4"
      ]
     },
     "execution_count": 2,
     "metadata": {},
     "output_type": "execute_result"
    }
   ],
   "source": [
    "salario"
   ]
  },
  {
   "cell_type": "code",
   "execution_count": 3,
   "metadata": {},
   "outputs": [
    {
     "data": {
      "text/plain": [
       "4"
      ]
     },
     "execution_count": 3,
     "metadata": {},
     "output_type": "execute_result"
    }
   ],
   "source": [
    "1+3"
   ]
  },
  {
   "cell_type": "code",
   "execution_count": null,
   "metadata": {},
   "outputs": [],
   "source": []
  },
  {
   "cell_type": "code",
   "execution_count": null,
   "metadata": {},
   "outputs": [],
   "source": []
  }
 ],
 "metadata": {
  "kernelspec": {
   "display_name": "Python 3 (ipykernel)",
   "language": "python",
   "name": "python3"
  },
  "language_info": {
   "codemirror_mode": {
    "name": "ipython",
    "version": 3
   },
   "file_extension": ".py",
   "mimetype": "text/x-python",
   "name": "python",
   "nbconvert_exporter": "python",
   "pygments_lexer": "ipython3",
   "version": "3.9.7"
  }
 },
 "nbformat": 4,
 "nbformat_minor": 4
}
